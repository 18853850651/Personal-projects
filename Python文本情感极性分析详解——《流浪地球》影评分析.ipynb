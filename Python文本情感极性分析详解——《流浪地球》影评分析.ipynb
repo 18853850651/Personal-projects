{
 "cells": [
  {
   "cell_type": "markdown",
   "metadata": {},
   "source": [
    "## 关于《流浪地球》炸裂的口碑，机器学习竟然是这样评价的……\n",
    "### ————Python文本情感极性分析详解"
   ]
  },
  {
   "cell_type": "markdown",
   "metadata": {},
   "source": [
    "* NLP（神经语言程序学/自然语言学习）是当前机器学习领域一个重要的分支，就是用机器学习模型来理解处理人类的自然语言，并给出符合自然语言逻辑的反馈。\n",
    "* 自然语言学习中具体的工作包括，教会程序用算法来正确地提取句子的主体成分（分词），判断句子的情感色彩（情感分析）等，并基于此实现文本分类，语言翻译，自动回复等更高级功能。\n",
    "* 此文尝试建立多种NLP模型，并利用《流浪地球》影评评语作为样本数据进行训练，对比模型（情感词典模型，机器学习模型（词向量模型、MLP/多层感知机））之间的相同和差异。"
   ]
  },
  {
   "cell_type": "markdown",
   "metadata": {},
   "source": [
    "## 一、 基于情感词典的文本情感极性分析\n",
    "*  通过情感打分的方式进行文本情感极性判断。\n",
    "* score > 0判断为正向，score < 0判断为负向。"
   ]
  },
  {
   "cell_type": "markdown",
   "metadata": {},
   "source": [
    "### 1、数据准备"
   ]
  },
  {
   "cell_type": "markdown",
   "metadata": {},
   "source": [
    "#### 备用情感分析文档\n",
    "* 常用情感词典：词典来源于BosonNLP数据下载的情感词典 BosonNLP_sentiment_score.txt\n",
    "* 否定词词典，（自己手动构建）构建常见否定词词典  negwords_70.txt\n",
    "* 程度副词词典：《知网》情感分析用词语集（beta版）（自己手动为词打分）degreeDict.txt\n",
    "* 中文停用词  stopwords_1208.txt\n",
    "\n",
    "#### 情感分析词文档可以去各自专业网站下载  \n",
    "* 为统一文件的读取格式，所有文件均已用utf-8编码格式存储\n",
    "\n",
    "#### 程度副词词典打分（手动添加）标准：\n",
    "* “极其|extreme / 最|most”级别 ---2.00\n",
    "* “很|very”级别 --- 1.75\n",
    "* “较|more”级别 --- 1.50\n",
    "* “稍|-ish”级别 --- 1.20\n",
    "* “欠|insufficiently”级别 --- 0.50\n",
    "* “超|over”级别 --- -1.00"
   ]
  },
  {
   "cell_type": "code",
   "execution_count": 1,
   "metadata": {},
   "outputs": [
    {
     "name": "stdout",
     "output_type": "stream",
     "text": [
      "524\n"
     ]
    }
   ],
   "source": [
    "# 读取样本数据信息,流浪地球_影评01.txt为随机抽取的样本\n",
    "sens = []\n",
    "with open('流浪地球_影评01.txt','r',\n",
    "          encoding='utf-8-sig') as f:\n",
    "    datas = f.readlines()\n",
    "    \n",
    "    for data in datas:\n",
    "        sen = data.strip()\n",
    "        sens.append(sen)\n",
    "print(len(sens))"
   ]
  },
  {
   "cell_type": "code",
   "execution_count": 2,
   "metadata": {},
   "outputs": [
    {
     "name": "stdout",
     "output_type": "stream",
     "text": [
      "1208\n"
     ]
    }
   ],
   "source": [
    "# 获取停用词列表\n",
    "with open('files/stopwords_1208.txt','r',\n",
    "          encoding='utf-8-sig') as f:\n",
    "   stopwords = f.readlines()\n",
    "print(len(stopwords))"
   ]
  },
  {
   "cell_type": "markdown",
   "metadata": {},
   "source": [
    "### 2、数据获取与清洗\n",
    "* 获取电影影评文件\n",
    "* 获取停用词文件\n",
    "* 详细代码参见《267019猫眼数据加持，原来你是这样的<流浪地球>\n",
    "* ——python数据分析全流程代码实现！（一）》 数据清洗部分\n",
    "* github源代码地址：https://github.com/Willsgao/Personal-projects"
   ]
  },
  {
   "cell_type": "code",
   "execution_count": 3,
   "metadata": {},
   "outputs": [],
   "source": [
    "# 定义句子分词函数\n",
    "def sent2word(sentence,stopwords):\n",
    "    # 句子分词处理\n",
    "    segList = jieba.cut(sentence)\n",
    "    words = []\n",
    "    for word in segList:\n",
    "        if word not in stopwords:\n",
    "            words.append(word) \n",
    "    return words"
   ]
  },
  {
   "cell_type": "markdown",
   "metadata": {},
   "source": [
    "### 3、构建情感词典模型"
   ]
  },
  {
   "cell_type": "markdown",
   "metadata": {},
   "source": [
    "#### 3.1 将词语进行分类和定位"
   ]
  },
  {
   "cell_type": "code",
   "execution_count": 10,
   "metadata": {},
   "outputs": [],
   "source": [
    "# 导入中文分词相关工具包\n",
    "from collections import defaultdict\n",
    "import os, re, codecs\n",
    "import jieba\n",
    "import matplotlib.pyplot as mp"
   ]
  },
  {
   "cell_type": "code",
   "execution_count": 5,
   "metadata": {},
   "outputs": [],
   "source": [
    "# 构建分词分类模型（情感定位）\n",
    "def classifyWords(words): \n",
    "    # (1) 情感词,备用情感词文件存储在files文件夹里\n",
    "    senDict = defaultdict()\n",
    "    with open('files/BosonNLP_sentiment_score.txt', 'r', \n",
    "              encoding='utf-8-sig') as f:\n",
    "        senList = f.readlines()\n",
    "    # 用评语和评分标签（二分）构建字典\n",
    "    for st in senList:\n",
    "        sen = st.strip().split(' ')\n",
    "        if len(sen) <2:\n",
    "            continue\n",
    "        senDict[sen[0]] = sen[1]\n",
    "    \n",
    "    # (2) 否定词,files[1]为备用否定词文件名\n",
    "    with open('files/negwords_70.txt', 'r',\n",
    "              encoding='utf-8-sig') as f:\n",
    "        negLists = f.readlines()\n",
    "        # 否定词处理\n",
    "        negList = []\n",
    "        for neg in negLists:\n",
    "            neg = neg.strip()\n",
    "            if not neg:\n",
    "                continue\n",
    "            negList.append(neg)\n",
    "\n",
    "    # (3) 程度副词,files[2]为备用程度副词文件名\n",
    "    with open('files/degreeDict.txt','r',\n",
    "              encoding='utf-8-sig') as f:\n",
    "        degreeList = f.readlines()\n",
    "    degreeDict = defaultdict()\n",
    "    for dg in degreeList:\n",
    "        degree = dg.strip().split('\\t')\n",
    "        degreeDict[degree[0]] = degree[1]\n",
    "\n",
    "    \n",
    "    # 情感词处理\n",
    "    senWord = defaultdict()\n",
    "    negWord = defaultdict()\n",
    "    degreeWord = defaultdict()\n",
    "    \n",
    "    # 细化分词的词性感情色彩特征\n",
    "    for idx,wd in enumerate(words):\n",
    "        if wd in senDict.keys() and wd not in\\\n",
    "        negList and wd not in degreeDict.keys():\n",
    "            senWord[idx] = senDict[wd]\n",
    "        elif wd in negList and wd not in degreeDict.keys():\n",
    "            negWord[idx] = -1\n",
    "        elif wd in degreeDict.keys():\n",
    "            degreeWord[idx] = degreeDict[wd]\n",
    "    \n",
    "    return senWord, negWord, degreeWord"
   ]
  },
  {
   "cell_type": "markdown",
   "metadata": {},
   "source": [
    "#### 3.2 计算句子感情色彩得分\n",
    "* 在此，简化的情感分数计算逻辑：所有情感词语组的分数之和\n",
    "* 得分公式：单句最后得分sen_score =  (-1)^(negWord数量)x(degreeWord数量)x(句子得分)\n",
    "* 总分合计：final_score = sum(sen_score)"
   ]
  },
  {
   "cell_type": "code",
   "execution_count": 6,
   "metadata": {},
   "outputs": [],
   "source": [
    "# 定义情感得分函数\n",
    "def scoreSent(senWord, negWord, degreeWord, words):\n",
    "    W = 1\n",
    "    score = 0\n",
    "    # 存储所有情感词位置的列表\n",
    "    senLoc = list(senWord.keys())\n",
    "    negLoc = list(negWord.keys())\n",
    "    degreeLoc = list(degreeWord.keys())\n",
    "    senloc = -1\n",
    "    \n",
    "    # 遍历句子中所有单词的segResult,i为单词的绝对位置\n",
    "    for i in range(len(words)):\n",
    "        # 如果该词为情感词\n",
    "        if i in senLoc:\n",
    "            # loc 为情感词位置列表的序号\n",
    "            senloc += 1\n",
    "            # 直接添加该情感词分数\n",
    "            score += W * float(senWord[i])\n",
    "            # print(\"score = %f\"% score)\n",
    "            if senloc < len(senLoc) - 1:\n",
    "                # 判断该情感词与下一情感词之间是否存在否定词或程度副词\n",
    "                # j为绝对位置\n",
    "                for j in range(senLoc[senloc], senLoc[senloc+1]):\n",
    "                    # 如果含有否定词\n",
    "                    if j in negLoc:\n",
    "                        W *= -1\n",
    "                    # 如果含有程度副词\n",
    "                    elif j in degreeLoc:\n",
    "                        W *= float(degreeWord[j])\n",
    "    return score"
   ]
  },
  {
   "cell_type": "markdown",
   "metadata": {},
   "source": [
    "####  3.3 样本预处理\n",
    "* 将样本数据进行预处理，满足格式要求"
   ]
  },
  {
   "cell_type": "code",
   "execution_count": 8,
   "metadata": {},
   "outputs": [
    {
     "name": "stderr",
     "output_type": "stream",
     "text": [
      "Building prefix dict from the default dictionary ...\n",
      "Loading model from cache C:\\Users\\Python\\AppData\\Local\\Temp\\jieba.cache\n",
      "Loading model cost 0.821 seconds.\n",
      "Prefix dict has been built succesfully.\n"
     ]
    },
    {
     "name": "stdout",
     "output_type": "stream",
     "text": [
      "524\n"
     ]
    }
   ],
   "source": [
    "# 对样本进行分词处理\n",
    "scores = []\n",
    "for sentence in sens:\n",
    "    words = sent2word(sentence,stopwords)\n",
    "    senWord, negWord, degreeWord = \\\n",
    "    classifyWords(words)\n",
    "    score = scoreSent(senWord, \n",
    "                      negWord, degreeWord, words)\n",
    "    # 为排除句子长度（分词个数）对分值的影响，进行归一化处理\n",
    "    score /= len(words)\n",
    "    scores.append(score)\n",
    "print(len(scores))"
   ]
  },
  {
   "cell_type": "markdown",
   "metadata": {},
   "source": [
    "### 4、数据可视化\n",
    "* 对坐标数据进行归一化处理\n",
    "* 绘制趋势变化散点图"
   ]
  },
  {
   "cell_type": "code",
   "execution_count": 9,
   "metadata": {},
   "outputs": [],
   "source": [
    "# 以得分作为纵坐标，顺序值作为横坐标画散点图\n",
    "import numpy as np\n",
    "x = []\n",
    "y = []\n",
    "scores = sorted(scores)\n",
    "min_score = min(scores)\n",
    "max_score = max(scores)\n",
    "wid = max_score - min_score\n",
    "for idx,score in enumerate(scores):\n",
    "    x.append(idx)\n",
    "    y.append(float((score-min_score)/wid))\n",
    "x = np.array(x)\n",
    "y = np.array(y)"
   ]
  },
  {
   "cell_type": "code",
   "execution_count": 11,
   "metadata": {
    "scrolled": true
   },
   "outputs": [
    {
     "data": {
      "image/png": "[encoded data removed]",
      "text/plain": [
       "<matplotlib.figure.Figure at 0x1ec80554f28>"
      ]
     },
     "metadata": {},
     "output_type": "display_data"
    }
   ],
   "source": [
    "# 可视化代码\n",
    "mp.figure('Wardering Earth Sentiment Score', facecolor='lightgray')\n",
    "mp.title('Wardering Earth Sentiment Score', fontsize=20)\n",
    "mp.xlabel('x', fontsize=14)\n",
    "mp.ylabel('y', fontsize=14)\n",
    "ax = mp.gca()\n",
    "ax.xaxis.set_minor_locator(\n",
    "    mp.MultipleLocator(20))\n",
    "ax.yaxis.set_minor_locator(\n",
    "    mp.MultipleLocator())\n",
    "ax.grid(which='major', axis='both', linewidth=0.5,\n",
    "        linestyle='--', color='orangered')\n",
    "mp.scatter(x, y, c='dodgerblue')\n",
    "mp.show()"
   ]
  },
  {
   "cell_type": "markdown",
   "metadata": {},
   "source": [
    "### 5、情感词典模型小结\n",
    "* 1、两级的评价感情色彩比较强烈，尤其是夸赞一方；\n",
    "* 即使经过归一化处理仍能看出与均值偏差加大。\n",
    "* 2、受极值范围影响，主体评价部分评语得分较为和缓；\n",
    "* 不能准确形象地反映总体观众对电影的评价结果。\n",
    "* 3、对于正负向文本的判断，该算法忽略了很多其他的否定词、程度副词\n",
    "* 和情感词搭配的情况；用于判断情感强弱也过于简单。\n",
    "* 4、关于y轴得分与星级评价的关系需要结合具体业务分析，此处暂不处理。\n",
    "### 该模型只能作为基础定性的评价模型"
   ]
  },
  {
   "cell_type": "markdown",
   "metadata": {},
   "source": [
    "## 二、基于机器学习的文本情感极性分析\n",
    "* 基于词向量Word2Vec建立机器学习模型"
   ]
  },
  {
   "cell_type": "markdown",
   "metadata": {},
   "source": [
    "### 1、模型数学抽象\n",
    "* 本文构建模型的目的是进行文本（影评）情感色彩识别，属于分类问题。\n",
    "* NLP处理涉及分词（中文分词器:jieba,loso,smallseg等），选择jieba工具包。\n",
    "* 建立机器学习模型涉及标签分类，选择SVM和MLP模型。"
   ]
  },
  {
   "cell_type": "code",
   "execution_count": 12,
   "metadata": {},
   "outputs": [],
   "source": [
    "# 导入相关基础工具包\n",
    "import sys\n",
    "import numpy as np \n",
    "import pandas as pd\n",
    "import jieba\n",
    "import matplotlib.pyplot as mp"
   ]
  },
  {
   "cell_type": "markdown",
   "metadata": {},
   "source": [
    "### 2、数据准备\n",
    "* 停用词准备与一中相同"
   ]
  },
  {
   "cell_type": "code",
   "execution_count": 13,
   "metadata": {},
   "outputs": [],
   "source": [
    "# 获取停用词列表\n",
    "with open('files/stopwords_1208.txt','r',\n",
    "          encoding='utf-8-sig') as f:\n",
    "   stopwords = f.readlines()"
   ]
  },
  {
   "cell_type": "markdown",
   "metadata": {},
   "source": [
    "#### 2.1 读取数据"
   ]
  },
  {
   "cell_type": "code",
   "execution_count": 14,
   "metadata": {},
   "outputs": [
    {
     "data": {
      "text/html": [
       "<div>\n",
       "<style scoped>\n",
       "    .dataframe tbody tr th:only-of-type {\n",
       "        vertical-align: middle;\n",
       "    }\n",
       "\n",
       "    .dataframe tbody tr th {\n",
       "        vertical-align: top;\n",
       "    }\n",
       "\n",
       "    .dataframe thead th {\n",
       "        text-align: right;\n",
       "    }\n",
       "</style>\n",
       "<table border=\"1\" class=\"dataframe\">\n",
       "  <thead>\n",
       "    <tr style=\"text-align: right;\">\n",
       "      <th></th>\n",
       "      <th>昵称</th>\n",
       "      <th>城市</th>\n",
       "      <th>评语</th>\n",
       "      <th>评分</th>\n",
       "      <th>日期</th>\n",
       "      <th>性别标签</th>\n",
       "    </tr>\n",
       "  </thead>\n",
       "  <tbody>\n",
       "    <tr>\n",
       "      <th>count</th>\n",
       "      <td>267014</td>\n",
       "      <td>266354</td>\n",
       "      <td>266994</td>\n",
       "      <td>266974</td>\n",
       "      <td>266968</td>\n",
       "      <td>141429</td>\n",
       "    </tr>\n",
       "    <tr>\n",
       "      <th>unique</th>\n",
       "      <td>239386</td>\n",
       "      <td>1061</td>\n",
       "      <td>247327</td>\n",
       "      <td>12</td>\n",
       "      <td>190455</td>\n",
       "      <td>3</td>\n",
       "    </tr>\n",
       "    <tr>\n",
       "      <th>top</th>\n",
       "      <td>.</td>\n",
       "      <td>北京</td>\n",
       "      <td>好看好看好看</td>\n",
       "      <td>5.0</td>\n",
       "      <td>2019-02-07 00:00:00</td>\n",
       "      <td>1.0</td>\n",
       "    </tr>\n",
       "    <tr>\n",
       "      <th>freq</th>\n",
       "      <td>379</td>\n",
       "      <td>8615</td>\n",
       "      <td>972</td>\n",
       "      <td>188289</td>\n",
       "      <td>16</td>\n",
       "      <td>89518</td>\n",
       "    </tr>\n",
       "  </tbody>\n",
       "</table>\n",
       "</div>"
      ],
      "text/plain": [
       "            昵称      城市      评语      评分                   日期    性别标签\n",
       "count   267014  266354  266994  266974               266968  141429\n",
       "unique  239386    1061  247327      12               190455       3\n",
       "top          .      北京  好看好看好看     5.0  2019-02-07 00:00:00     1.0\n",
       "freq       379    8615     972  188289                   16   89518"
      ]
     },
     "execution_count": 14,
     "metadata": {},
     "output_type": "execute_result"
    }
   ],
   "source": [
    "# 读取合并后的文件信息\n",
    "datas = pd.read_csv('合并文件/流浪地球01_comments.csv',\n",
    "                encoding='utf_8_sig',engine='python')\n",
    "# 查看数据的基本信息属性\n",
    "datas.describe()"
   ]
  },
  {
   "cell_type": "markdown",
   "metadata": {},
   "source": [
    "#### 2.2 数据清洗处理\n",
    "* 为方便计算，将评分不小于2.5分的归为“正评”，小于2.5分的归为“负评”。\n",
    "* 将数据分为训练集和测试集"
   ]
  },
  {
   "cell_type": "code",
   "execution_count": 15,
   "metadata": {},
   "outputs": [
    {
     "name": "stdout",
     "output_type": "stream",
     "text": [
      "(266974, 2)\n"
     ]
    }
   ],
   "source": [
    "# 读取评语和评分数据\n",
    "all_com_scores =  datas.loc[:,['评语','评分']]\n",
    "# 将评分为空的数据删除\n",
    "com_scores = all_com_scores.dropna(axis=0)\n",
    "print(com_scores.shape)\n",
    "# print(com_scores.head())"
   ]
  },
  {
   "cell_type": "code",
   "execution_count": 16,
   "metadata": {},
   "outputs": [
    {
     "name": "stderr",
     "output_type": "stream",
     "text": [
      "C:\\ProgramData\\Anaconda3\\lib\\site-packages\\pandas\\core\\generic.py:4619: SettingWithCopyWarning: \n",
      "A value is trying to be set on a copy of a slice from a DataFrame\n",
      "\n",
      "See the caveats in the documentation: http://pandas.pydata.org/pandas-docs/stable/indexing.html#indexing-view-versus-copy\n",
      "  self._update_inplace(new_data)\n"
     ]
    },
    {
     "name": "stdout",
     "output_type": "stream",
     "text": [
      "266974\n"
     ]
    }
   ],
   "source": [
    "# 将评分值归类\n",
    "com_scores['评分'].replace(['5.0','4.5','4.0','3.5','3.0','2.5',\n",
    "                       '2.0','1.5','1.0','0.5','0.0'],\n",
    "                      ['正评','正评','正评','正评','正评','正评',\n",
    "                       '负评','负评','负评','负评','负评'],inplace=True)\n",
    "print(len(com_scores))\n",
    "\n",
    "# 将正负评化的数据保存，以备后续读取\n",
    "com_scores.to_csv('流浪地球_comment_scores.txt',\n",
    "                  sep='\\t',index=False,header=None)"
   ]
  },
  {
   "cell_type": "code",
   "execution_count": 17,
   "metadata": {},
   "outputs": [
    {
     "name": "stderr",
     "output_type": "stream",
     "text": [
      "C:\\ProgramData\\Anaconda3\\lib\\site-packages\\ipykernel_launcher.py:2: DeprecationWarning: \n",
      ".ix is deprecated. Please use\n",
      ".loc for label based indexing or\n",
      ".iloc for positional indexing\n",
      "\n",
      "See the documentation here:\n",
      "http://pandas.pydata.org/pandas-docs/stable/indexing.html#ix-indexer-is-deprecated\n",
      "  \n"
     ]
    },
    {
     "name": "stdout",
     "output_type": "stream",
     "text": [
      "10078\n",
      "256885\n"
     ]
    }
   ],
   "source": [
    "# 将正负评价分开存储\n",
    "neg_cs = com_scores.ix[com_scores['评分'] == '负评']\n",
    "pos_cs = com_scores.ix[com_scores['评分'] == '正评']\n",
    "\n",
    "neg_cs.to_csv('neg_score01.txt',sep='\\t',index=False,header=None)\n",
    "pos_cs.to_csv('pos_score01.txt',sep='\\t',index=False,header=None)\n",
    "print(len(neg_cs))\n",
    "print(len(pos_cs))"
   ]
  },
  {
   "cell_type": "markdown",
   "metadata": {},
   "source": [
    "### 3、数据处理\n",
    "* 为简化运行，随机抽取了9088条'负评'样本为“负评’训练样本\n",
    "* 随机抽取了9058条'正评'样本为“正评’训练样本"
   ]
  },
  {
   "cell_type": "markdown",
   "metadata": {},
   "source": [
    "#### 3.1 定义分词器函数"
   ]
  },
  {
   "cell_type": "code",
   "execution_count": 18,
   "metadata": {},
   "outputs": [],
   "source": [
    "# 定义句子分词函数，并去除停用词\n",
    "def sent2word(sentence,stopwords):\n",
    "    # 句子分词处理\n",
    "    segList = jieba.cut(sentence)\n",
    "    words = []\n",
    "    # 去除停用词\n",
    "    for word in segList:\n",
    "        if word not in stopwords:\n",
    "            words.append(word) \n",
    "    # 剩余分词重新组合\n",
    "    output = '  '.join(words)\n",
    "    return output"
   ]
  },
  {
   "cell_type": "markdown",
   "metadata": {},
   "source": [
    "#### 3.2 定义数据处理函数"
   ]
  },
  {
   "cell_type": "code",
   "execution_count": 19,
   "metadata": {},
   "outputs": [],
   "source": [
    "# 获取词向量转化函数\n",
    "def getWordVecs(wordList,model):\n",
    "    vecs = []\n",
    "    for word in wordList:\n",
    "        word = word.replace('\\n', '')\n",
    "        try:\n",
    "            vecs.append(model[word])\n",
    "        except KeyError:\n",
    "            continue\n",
    "    # vecs = np.concatenate(vecs)\n",
    "    return np.array(vecs, dtype = 'float')\n",
    "\n",
    "# 建立词向量\n",
    "def buildVecs(filename,model):\n",
    "    posInput = []\n",
    "    with open(filename,'r', encoding='utf-8-sig') as f:\n",
    "        for line in f.readlines():\n",
    "            line = line.strip().split('\\t')[0]\n",
    "            line_spl = jieba.cut(line)\n",
    "            resultList = getWordVecs(line_spl,model)\n",
    "            # for each sentence, the mean vector of all its vectors is used to represent this sentence\n",
    "            if len(resultList) != 0:\n",
    "                resultArray = sum(np.array(resultList))/len(resultList)\n",
    "                posInput.append(resultArray)\n",
    "\n",
    "    return posInput"
   ]
  },
  {
   "cell_type": "markdown",
   "metadata": {},
   "source": [
    "#### 3.3 获取目标词汇文件"
   ]
  },
  {
   "cell_type": "code",
   "execution_count": 20,
   "metadata": {},
   "outputs": [],
   "source": [
    "sens = []\n",
    "with open(\"流浪地球_影评01.txt\", 'r', \n",
    "          encoding='utf-8-sig') as f:\n",
    "    for sent in f.readlines():\n",
    "        sent = sent.strip()\n",
    "        sen_out = sent2word(sent,stopwords)\n",
    "        sens.append(sen_out)\n",
    "\n",
    "# 将目标数据保存为所需格式\n",
    "sens = pd.DataFrame(sens)\n",
    "sens.to_csv(\"文本分析/流浪地球_corpus.csv\", mode='a', encoding='utf_8_sig',\n",
    "                  index=False, sep=',', header=False)"
   ]
  },
  {
   "cell_type": "markdown",
   "metadata": {},
   "source": [
    "### 4、Word2vec数据词向量化"
   ]
  },
  {
   "cell_type": "markdown",
   "metadata": {},
   "source": [
    "#### 4.1 机器模型相关工具包"
   ]
  },
  {
   "cell_type": "code",
   "execution_count": 21,
   "metadata": {},
   "outputs": [
    {
     "name": "stderr",
     "output_type": "stream",
     "text": [
      "C:\\ProgramData\\Anaconda3\\lib\\site-packages\\sklearn\\cross_validation.py:41: DeprecationWarning: This module was deprecated in version 0.18 in favor of the model_selection module into which all the refactored classes and functions are moved. Also note that the interface of the new CV iterators are different from that of this module. This module will be removed in 0.20.\n",
      "  \"This module will be removed in 0.20.\", DeprecationWarning)\n"
     ]
    }
   ],
   "source": [
    "# 机器模型相关工具包\n",
    "import gensim.models.word2vec as w2v\n",
    "import sklearn.cross_validation as scv\n",
    "import sklearn.externals.joblib as sej\n",
    "import sklearn.preprocessing as sp\n",
    "import sklearn.svm as ss\n",
    "import sklearn.decomposition as sd\n",
    "import sklearn.metrics as sm"
   ]
  },
  {
   "cell_type": "markdown",
   "metadata": {},
   "source": [
    "#### 4.2 生成目标文件词向量备用文档"
   ]
  },
  {
   "cell_type": "code",
   "execution_count": 24,
   "metadata": {},
   "outputs": [],
   "source": [
    "#模型训练，生成词向量\n",
    "sentences = w2v.LineSentence(\"文本分析/流浪地球_corpus.csv\") \n",
    "model = w2v.Word2Vec(sentences, size=20, window=5, min_count=5, workers=4) \n",
    "model.save(\"文本分析/corpus01.model\")"
   ]
  },
  {
   "cell_type": "markdown",
   "metadata": {},
   "source": [
    "#### 4.3 模型样本词向量化"
   ]
  },
  {
   "cell_type": "code",
   "execution_count": 26,
   "metadata": {},
   "outputs": [
    {
     "name": "stderr",
     "output_type": "stream",
     "text": [
      "C:\\ProgramData\\Anaconda3\\lib\\site-packages\\ipykernel_launcher.py:7: DeprecationWarning: Call to deprecated `__getitem__` (Method will be removed in 4.0.0, use self.wv.__getitem__() instead).\n",
      "  import sys\n"
     ]
    }
   ],
   "source": [
    "# 分别读取正评价和副评价文档内容\n",
    "posInput = buildVecs('train_pos.txt',model)\n",
    "negInput = buildVecs('train_neg.txt',model)\n",
    "\n",
    "# 0（副评价），1（正评价）初始化评价词向量空间\n",
    "y = np.concatenate(\n",
    "    (np.ones(len(posInput)), \n",
    "     np.zeros(len(negInput))))\n",
    "\n",
    "X = posInput[:]\n",
    "\n",
    "for neg in negInput:\n",
    "    X.append(neg)\n",
    "X = np.array(X)"
   ]
  },
  {
   "cell_type": "markdown",
   "metadata": {},
   "source": [
    "#### 4.4 样本数据标准化"
   ]
  },
  {
   "cell_type": "code",
   "execution_count": 27,
   "metadata": {},
   "outputs": [],
   "source": [
    "# 将样本数据进行标准化处理\n",
    "X = sp.scale(X)"
   ]
  },
  {
   "cell_type": "markdown",
   "metadata": {},
   "source": [
    "### 5、主成分分析\n",
    "* 可视化主成分影响因素\n",
    "* 进行适当的PCA降维处理"
   ]
  },
  {
   "cell_type": "markdown",
   "metadata": {},
   "source": [
    "#### 5.1 可视化主成分因素"
   ]
  },
  {
   "cell_type": "code",
   "execution_count": 32,
   "metadata": {
    "scrolled": true
   },
   "outputs": [
    {
     "name": "stdout",
     "output_type": "stream",
     "text": [
      "[8.77963915e-01 5.38628259e-02 2.41470197e-02 2.24467601e-02\n",
      " 1.01364023e-02 3.97908638e-03 2.46819636e-03 1.66338788e-03\n",
      " 7.93160631e-04 6.35487217e-04 4.82235819e-04 3.00335012e-04\n",
      " 2.70323102e-04 2.03246751e-04 1.93847461e-04 1.83500780e-04\n",
      " 1.18836750e-04 6.86973576e-05 5.49518261e-05 2.77840093e-05]\n"
     ]
    },
    {
     "data": {
      "image/png": "[encoded data removed]",
      "text/plain": [
       "<matplotlib.figure.Figure at 0x1ec83bd3fd0>"
      ]
     },
     "metadata": {},
     "output_type": "display_data"
    }
   ],
   "source": [
    "# 创建主成分分析变量\n",
    "pca = sd.PCA()\n",
    "pca.fit(X)\n",
    "\n",
    "# 主成分分析可视化\n",
    "mp.figure(1, figsize=(4, 3),facecolor='lightgray')\n",
    "mp.clf()\n",
    "mp.axes([.2, .2, .7, .7])\n",
    "mp.plot(pca.explained_variance_, linewidth=2, c='orangered')\n",
    "mp.axis('tight')\n",
    "mp.xlabel('n_components')\n",
    "mp.ylabel('explained_variance_')\n",
    "\n",
    "# 查看主成分变量方差占比\n",
    "print(pca.explained_variance_ratio_)"
   ]
  },
  {
   "cell_type": "markdown",
   "metadata": {},
   "source": [
    "#### PCA可视化小结\n",
    "* 从主成分图像和主成分变量方差占比矩阵可知：\n",
    "* 前5个成分占比之和在总成分中有绝对优势，选择前5个特征进行降维"
   ]
  },
  {
   "cell_type": "markdown",
   "metadata": {},
   "source": [
    "#### 5.2 PCA降维"
   ]
  },
  {
   "cell_type": "code",
   "execution_count": 33,
   "metadata": {},
   "outputs": [
    {
     "name": "stdout",
     "output_type": "stream",
     "text": [
      "X训练集维度: (16193, 5) X测试集维度: (1800, 5)\n",
      "y训练集维度: (16193,) y测试集维度: (1800,)\n"
     ]
    }
   ],
   "source": [
    "# 根据PCA（主成分分析）建议选择5个主成分特征\n",
    "X_reduced = sd.PCA(n_components = 5).fit_transform(X)\n",
    "\n",
    "# 随机抽取 10% 的数据作为测试集，其余为训练集 \n",
    "X_reduced_train, X_reduced_test, y_reduced_train, y_reduced_test = \\\n",
    "    scv.train_test_split(X_reduced,y,test_size=0.10,random_state=0)\n",
    "\n",
    "# 查看训练集、测试集的维度\n",
    "print('X训练集维度:',X_reduced_train.shape,'X测试集维度:',X_reduced_test.shape)\n",
    "print('y训练集维度:',y_reduced_train.shape,'y测试集维度:',y_reduced_test.shape)"
   ]
  },
  {
   "cell_type": "markdown",
   "metadata": {},
   "source": [
    "### 6、SVM(支持向量机)模型预测"
   ]
  },
  {
   "cell_type": "markdown",
   "metadata": {},
   "source": [
    "#### 6.1 模型的创建、训练和预测"
   ]
  },
  {
   "cell_type": "code",
   "execution_count": 34,
   "metadata": {
    "scrolled": true
   },
   "outputs": [
    {
     "name": "stdout",
     "output_type": "stream",
     "text": [
      "Test Accuracy: 0.63\n"
     ]
    }
   ],
   "source": [
    "# 建立支持向量机模型进行训练、预测\n",
    "clf = ss.SVC(C = 2, probability = True)\n",
    "clf.fit(X_reduced_train, y_reduced_train)\n",
    "\n",
    "pred_probas = clf.predict_proba(X_reduced_test)[:,1]\n",
    "\n",
    "# 模型预测准确率\n",
    "print('Test Accuracy: %.2f'% \n",
    "      clf.score(X_reduced_test, y_reduced_test))"
   ]
  },
  {
   "cell_type": "markdown",
   "metadata": {},
   "source": [
    "#### 6.2 模型的可视化评估\n",
    "* 绘制学习模型的ROC曲线图，对模型进行可视化并评估"
   ]
  },
  {
   "cell_type": "code",
   "execution_count": 35,
   "metadata": {},
   "outputs": [
    {
     "data": {
      "image/png": "[encoded data removed]",
      "text/plain": [
       "<matplotlib.figure.Figure at 0x1ec83ae68d0>"
      ]
     },
     "metadata": {},
     "output_type": "display_data"
    }
   ],
   "source": [
    "# 获取测试集预测的假阳性率和真阳性率\n",
    "fpr,tpr,_ = sm.roc_curve(y_reduced_test, pred_probas)\n",
    "# 获取ROC曲线下面积值\n",
    "roc_auc = sm.auc(fpr,tpr)\n",
    "\n",
    "# 绘制接受者操作特征曲线（ROC Curve）\n",
    "mp.figure('ROC Curve',facecolor='lightgray')\n",
    "mp.title('ROC Curve',fontsize=20)\n",
    "mp.xlabel('fpr',fontsize=14)\n",
    "mp.ylabel('tpr',fontsize=14)\n",
    "mp.plot(fpr, tpr, label = 'area = %.2f' % roc_auc,c='orangered')\n",
    "mp.plot([0, 1], [0, 1], 'k--',c='skyblue')\n",
    "mp.xlim([0.0, 1.0])\n",
    "mp.ylim([0.0, 1.05])\n",
    "mp.legend(loc = 'lower right')\n",
    "mp.show()"
   ]
  },
  {
   "cell_type": "markdown",
   "metadata": {},
   "source": [
    "#### SVM学习模型小结\n",
    "* 模型的数据预测准确率为0.63，差强人意\n",
    "* ROC曲线可知曲线下面积为0.69(取值区间为0.5-1),预测效果较为勉强"
   ]
  },
  {
   "cell_type": "markdown",
   "metadata": {},
   "source": [
    "### 7、MLP（多层感知机）模型\n",
    "* 利用keras工具包"
   ]
  },
  {
   "cell_type": "markdown",
   "metadata": {},
   "source": [
    "#### 7.1 导入相关工具包"
   ]
  },
  {
   "cell_type": "code",
   "execution_count": 36,
   "metadata": {
    "scrolled": true
   },
   "outputs": [
    {
     "name": "stderr",
     "output_type": "stream",
     "text": [
      "Using TensorFlow backend.\n"
     ]
    }
   ],
   "source": [
    "# 导入MLP相关工具包\n",
    "import tensorflow as tf\n",
    "import keras.models as km\n",
    "from keras.layers import Dense, Dropout, Activation"
   ]
  },
  {
   "cell_type": "markdown",
   "metadata": {},
   "source": [
    "#### 7.2 模型的创建"
   ]
  },
  {
   "cell_type": "code",
   "execution_count": 37,
   "metadata": {},
   "outputs": [
    {
     "name": "stderr",
     "output_type": "stream",
     "text": [
      "C:\\ProgramData\\Anaconda3\\lib\\site-packages\\ipykernel_launcher.py:4: UserWarning: Update your `Dense` call to the Keras 2 API: `Dense(512, input_dim=20, activation=\"tanh\", kernel_initializer=\"uniform\")`\n",
      "  after removing the cwd from sys.path.\n"
     ]
    }
   ],
   "source": [
    "# 建立多层感知机模型\n",
    "model = km.Sequential()\n",
    "\n",
    "model.add(Dense(512, input_dim = 20, init = 'uniform', activation = 'tanh'))\n",
    "model.add(Dropout(0.5))\n",
    "model.add(Dense(256, activation = 'relu'))\n",
    "model.add(Dropout(0.5))\n",
    "model.add(Dense(128, activation = 'relu'))\n",
    "model.add(Dropout(0.5))\n",
    "model.add(Dense(64, activation = 'relu'))\n",
    "model.add(Dropout(0.5))\n",
    "model.add(Dense(32, activation = 'relu'))\n",
    "model.add(Dropout(0.5))\n",
    "model.add(Dense(1, activation = 'sigmoid'))\n",
    "\n",
    "model.compile(loss = 'binary_crossentropy',\n",
    "              optimizer = 'adam',\n",
    "              metrics = ['accuracy'])"
   ]
  },
  {
   "cell_type": "markdown",
   "metadata": {},
   "source": [
    "#### 7.3 模型的训练和预测"
   ]
  },
  {
   "cell_type": "code",
   "execution_count": 38,
   "metadata": {
    "scrolled": false
   },
   "outputs": [
    {
     "name": "stderr",
     "output_type": "stream",
     "text": [
      "C:\\ProgramData\\Anaconda3\\lib\\site-packages\\ipykernel_launcher.py:5: UserWarning: The `nb_epoch` argument in `fit` has been renamed `epochs`.\n",
      "  \"\"\"\n"
     ]
    },
    {
     "name": "stdout",
     "output_type": "stream",
     "text": [
      "Epoch 1/20\n",
      "16193/16193 [==============================] - 6s 364us/step - loss: 0.6990 - acc: 0.5479\n",
      "Epoch 2/20\n",
      "16193/16193 [==============================] - 5s 292us/step - loss: 0.6725 - acc: 0.5990\n",
      "Epoch 3/20\n",
      "16193/16193 [==============================] - 5s 297us/step - loss: 0.6466 - acc: 0.6358\n",
      "Epoch 4/20\n",
      "16193/16193 [==============================] - 5s 317us/step - loss: 0.6339 - acc: 0.6540\n",
      "Epoch 5/20\n",
      "16193/16193 [==============================] - 5s 320us/step - loss: 0.6201 - acc: 0.6739\n",
      "Epoch 6/20\n",
      "16193/16193 [==============================] - 5s 301us/step - loss: 0.6049 - acc: 0.6927\n",
      "Epoch 7/20\n",
      "16193/16193 [==============================] - 5s 310us/step - loss: 0.5978 - acc: 0.6973\n",
      "Epoch 8/20\n",
      "16193/16193 [==============================] - 5s 299us/step - loss: 0.5915 - acc: 0.7026\n",
      "Epoch 9/20\n",
      "16193/16193 [==============================] - 5s 301us/step - loss: 0.5904 - acc: 0.7050\n",
      "Epoch 10/20\n",
      "16193/16193 [==============================] - 5s 304us/step - loss: 0.5809 - acc: 0.7141\n",
      "Epoch 11/20\n",
      "16193/16193 [==============================] - 5s 302us/step - loss: 0.5752 - acc: 0.7114\n",
      "Epoch 12/20\n",
      "16193/16193 [==============================] - 5s 310us/step - loss: 0.5810 - acc: 0.7091\n",
      "Epoch 13/20\n",
      "16193/16193 [==============================] - 5s 296us/step - loss: 0.5788 - acc: 0.7117\n",
      "Epoch 14/20\n",
      "16193/16193 [==============================] - 5s 293us/step - loss: 0.5727 - acc: 0.7181\n",
      "Epoch 15/20\n",
      "16193/16193 [==============================] - 5s 309us/step - loss: 0.5783 - acc: 0.7158\n",
      "Epoch 16/20\n",
      "16193/16193 [==============================] - 5s 297us/step - loss: 0.5735 - acc: 0.7136\n",
      "Epoch 17/20\n",
      "16193/16193 [==============================] - 5s 313us/step - loss: 0.5726 - acc: 0.7158\n",
      "Epoch 18/20\n",
      "16193/16193 [==============================] - 5s 305us/step - loss: 0.5700 - acc: 0.7184\n",
      "Epoch 19/20\n",
      "16193/16193 [==============================] - 5s 305us/step - loss: 0.5739 - acc: 0.7141\n",
      "Epoch 20/20\n",
      "16193/16193 [==============================] - 5s 295us/step - loss: 0.5697 - acc: 0.7174\n",
      "1800/1800 [==============================] - 0s 108us/step\n",
      "Test accuracy:  0.7022222222222222\n"
     ]
    }
   ],
   "source": [
    "# 获取训练集和预测集（与SVM模型共用）\n",
    "X_train, X_test, y_train, y_test = scv.train_test_split(\n",
    "    X,y,test_size=0.10,random_state=0)\n",
    "\n",
    "model.fit(X_train, y_train, nb_epoch = 20, batch_size = 16)\n",
    "score = model.evaluate(X_test, y_test, batch_size = 16)\n",
    "print ('Test accuracy: ', score[1])"
   ]
  },
  {
   "cell_type": "markdown",
   "metadata": {},
   "source": [
    "#### 7.4 模型的可视化评估\n",
    "* 绘制ROC曲线\n",
    "* 评估模型的预测性能"
   ]
  },
  {
   "cell_type": "code",
   "execution_count": 39,
   "metadata": {},
   "outputs": [
    {
     "data": {
      "image/png": "[encoded data removed]",
      "text/plain": [
       "<matplotlib.figure.Figure at 0x1ec84ba0a58>"
      ]
     },
     "metadata": {},
     "output_type": "display_data"
    }
   ],
   "source": [
    "pred_probas = model.predict(X_test)\n",
    "\n",
    "# 获取测试集预测的假阳性率和真阳性率\n",
    "fpr,tpr,_ = sm.roc_curve(y_reduced_test, pred_probas)\n",
    "# 获取ROC曲线下面积值\n",
    "roc_auc = sm.auc(fpr,tpr)\n",
    "\n",
    "# 绘制接受者操作特征曲线（ROC Curve）\n",
    "mp.figure('ROC Curve',facecolor='lightgray')\n",
    "mp.title('ROC Curve',fontsize=20)\n",
    "mp.xlabel('fpr',fontsize=14)\n",
    "mp.ylabel('tpr',fontsize=14)\n",
    "mp.plot(fpr, tpr, label = 'area = %.2f' % roc_auc,c='orangered')\n",
    "mp.plot([0, 1], [0, 1], 'k--',c='skyblue')\n",
    "mp.xlim([0.0, 1.0])\n",
    "mp.ylim([0.0, 1.05])\n",
    "mp.legend(loc = 'lower right')\n",
    "mp.show()"
   ]
  },
  {
   "cell_type": "markdown",
   "metadata": {},
   "source": [
    "#### MLP学习模型小结\n",
    "* 模型的数据预测准确率为0.70，较SVM有较明显性能提升\n",
    "* ROC曲线可知曲线下面积为0.78(取值区间为0.5-1),预测效果提升明显"
   ]
  },
  {
   "cell_type": "markdown",
   "metadata": {},
   "source": [
    "## 三、模型性能评估\n",
    "* 1、相比于基于词典的情感分析方法，基于机器学习的方法更为客观\n",
    "* 2、在文本情感预测方面，MLP(多层感知机)模型性能较SVM(支持向量机)更好\n",
    "* 3、由于项目自身的问题(样本数据与文本标签的选择等)，模型的预测能力还不完美，需要做进一步性能优化"
   ]
  }
 ],
 "metadata": {
  "kernelspec": {
   "display_name": "venvenv",
   "language": "python",
   "name": "venvenv"
  },
  "language_info": {
   "codemirror_mode": {
    "name": "ipython",
    "version": 3
   },
   "file_extension": ".py",
   "mimetype": "text/x-python",
   "name": "python",
   "nbconvert_exporter": "python",
   "pygments_lexer": "ipython3",
   "version": "3.6.4"
  }
 },
 "nbformat": 4,
 "nbformat_minor": 2
}
