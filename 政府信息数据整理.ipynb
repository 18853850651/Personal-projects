{
 "cells": [
  {
   "cell_type": "code",
   "execution_count": 1,
   "metadata": {},
   "outputs": [],
   "source": [
    "import os \n",
    "import pandas as pd\n",
    "import re\n",
    "import pandas as pd\n",
    "import csv"
   ]
  },
  {
   "cell_type": "code",
   "execution_count": 100,
   "metadata": {},
   "outputs": [
    {
     "name": "stdout",
     "output_type": "stream",
     "text": [
      "778\n"
     ]
    }
   ],
   "source": [
    "file_lists = []\n",
    "\n",
    "for curdir,dirs,files in os.walk('./数据集'):\n",
    "    for file in files:\n",
    "        if file.endswith('.txt'):\n",
    "            file = os.path.join(curdir,file)\n",
    "            file_lists.append(file)\n",
    "\n",
    "# for file in file_lists:\n",
    "#     print(file)\n",
    "print(len(file_lists))"
   ]
  },
  {
   "cell_type": "code",
   "execution_count": 101,
   "metadata": {},
   "outputs": [],
   "source": [
    "patts = {'生产总值/地区生产总值/GDP/地区生产总值（GDP）/地区生产总值（GDP）达到/生产总值实现':(\n",
    "    r'生产总值.*?(\\d+.\\d+)(\\w+元).*?(增长|下降).*?(\\d+.\\d+\\w*%)',(1,2)),\n",
    "        '按可比价格计算，同比增长/比上年增长/按可比价计算，增长/按可比价计算， GDP总量增长/，与上年比增速/同比增长':(\n",
    "            r'生产总值.*?(\\d+.\\d+)(\\w+元).*?((增长|下降).*?(\\d+.\\d*.*?%*))',(3,)),\n",
    "        '第一产业增加值/第一产业实现/一产业实现增加值':(\n",
    "            r'第一产业增加值.*?(\\d+.\\d+)(\\w+元).*?(增长|下降).*?(\\d+.\\d+\\w*(%|元))',(1,2)),\n",
    "        '第二产业增加值/第二产业实现/二产业实现增加值':(\n",
    "            r'第二产业增加值.*?(\\d+.\\d+)(\\w+元).*?(增长|下降).*?(\\d+.\\d+\\w*(%|元))',(1,2)),\n",
    "        '第三产业增加值/第三产业实现/三产业实现增加值':(\n",
    "            r'第三产业增加值.*?(\\d+.\\d+)(\\w+元).*?(增长|下降).*?(\\d+.\\d+\\w*(%|元))',(1,2)),\n",
    "        '人均GDP':(r'人均.*?(GDP|生产).*?(\\d+).*?(\\D*元).*?',(2,3)),\n",
    "        '规模以上工业增加值/规模以上工业（XXX）增加值/工业增加值':(\n",
    "            r'工业和建筑业.*?\\n*?.*?(规模以上|工业)(增加值).*?(\\d+.\\d+)(.*?元).*?((增长|下降).*?(\\d+.\\d*.*?%*))',(3,4)),\n",
    "        '规模以上工业增加值增长率':(\n",
    "            r'工业和建筑业.*?\\n*?.*?(规模以上|工业)(增加值).*?(\\d+.\\d+)(.*?元).*?((增长|下降).*?(\\d+.\\d*.*?%*))',(5,)),\n",
    "        '全社会固定资产投资/固定资产投资/固定资产投资(省口径)':(\n",
    "            r'固定资产投资.*?(\\d+.\\d+)(.*?元).*?((增长|下降).*?(\\d+.\\d*.*?%*))',(1,2)),\n",
    "        '社会固定资产投资增长率':(r'固定资产投资.*?(\\d+.\\d+)(.*?元).*?((增长|下降).*?(\\d+.\\d*.*?%*))',(3,)),\n",
    "        '房地产投资/房地产开发投资/房地产开发完成投资/房地产开发投资完成':(\n",
    "            r'(房地产|房地产开发).*?投资.*?(\\d+.\\d+)(.*?元).*?((增长|下降).*?(\\d+.\\d*.*?%*))',(2,3)),\n",
    "        '房地产开发投资同比增长':(\n",
    "            r'(房地产|房地产开发).*?(\\d+.\\d+)(.*?元).*?((增长|下降).*?(\\d+.\\d*.*?%*))',(4,)),\n",
    "        '社会消费品零售总额/社会消费品零售额':(r'(消费品).*?总额.*?(\\d+.\\d+)(.*?元).*?((增长|下降).*?(\\d+.\\d*.*?%*))',(2,3)),\n",
    "        '社会消费品零售总额增长率':(r'(消费品).*?总额.*?(\\d+.\\d+)(.*?元).*?((增长|下降).*?(\\d+.\\d*.*?%*))',(4,)),\n",
    "        '地方公共财政预算收入/一般预算收入/一般公共预算收入/地方公共预算收入':(\n",
    "            r'(财政|一般).*?收入.*?(\\d+.\\d+)(.*?元).*?((增长|下降).*?(\\d+.\\d*.*?%*))',(2,3)),\n",
    "        '地方公共预算收入同比增长':(\n",
    "            r'(财政|一般).*?收入.*?(\\d+.\\d+)(.*?元).*?((增长|下降).*?(\\d+.\\d*.*?%*))',(4,)),\n",
    "        '财政总支出/财政支出/一般预算支出/一般公共预算支出':(\n",
    "            r'(财政支出|预算支出).*?(\\d+.\\d+)(.*?元).*?((增长|下降).*?(\\d+.\\d*.*?%*))',(2,3)),\n",
    "        '政府性基金支出/基金支出':(r'基金支出.*?收入.*?(\\d+.\\d+)(.*?元)',(1,2)),\n",
    "        '金融机构年末各项存款余额/人民币各项存款余额':(\n",
    "            r'(存款余额).*?(\\d+.\\d+)(.*?元).*?((增长|下降).*?(\\d+.\\d*.*?%*))',(2,3)),\n",
    "        '金融机构年末各项贷款余额/人民币各项贷款余额':(\n",
    "            r'(贷款余额).*?(\\d+.\\d+)(.*?元).*?((增长|下降).*?(\\d+.\\d*.*?%*))',(2,3)),\n",
    "        '户籍总人口/户籍人口':(r'(总人口|户籍人口).*?(\\d+.\\d+)(.*?人)',(2,3)),\n",
    "        '常住人口/常住总人口':(r'(常住人口).*?(\\d+.\\d+)(.*?人)',(2,3)),\n",
    "        '城镇住户人均可支配收入/城镇常住居民人均可支配收入/城镇常住居民人均总收入/城镇居民人均可支配收入':(\n",
    "            r'(城镇).*?可支配收入.*?(\\d+.\\d+)(.*?元)',(2,3)),\n",
    "        '农村居民人均可支配收入/农民人均可支配收入':(\n",
    "            r'(农村).*?可支配收入.*?(\\d+.\\d+)(.*?元)',(2,3))\n",
    "        }"
   ]
  },
  {
   "cell_type": "code",
   "execution_count": 102,
   "metadata": {},
   "outputs": [
    {
     "name": "stdout",
     "output_type": "stream",
     "text": [
      "778\n",
      "778\n",
      "778\n"
     ]
    }
   ],
   "source": [
    "citys_infos = {}\n",
    "citys_errors = {}\n",
    "print(len(file_lists))\n",
    "for file in file_lists:\n",
    "    with open(file, 'r') as f:\n",
    "        s = f.read()\n",
    "        infos = {}\n",
    "        errors = {}\n",
    "        for key,val in patts.items():\n",
    "            infos[key] = []\n",
    "            if len(val[1]) == 2:\n",
    "                try:\n",
    "                    num = re.search(val[0],s).group(val[1][0])\n",
    "                    char = re.search(val[0],s).group(val[1][1])\n",
    "                    infos[key].append([num,char])\n",
    "                except Exception as e:\n",
    "                    errors[key] = e\n",
    "            elif len(val[1]) == 1:\n",
    "                try:\n",
    "                    char = re.search(val[0],s).group(val[1][0])\n",
    "                    infos[key].append([char,None])\n",
    "                except Exception as e:\n",
    "                    errors[key] = e                \n",
    "        citys_infos[file] = infos\n",
    "        citys_errors[file] = errors\n",
    "print(len(citys_infos))\n",
    "print(len(citys_errors))"
   ]
  },
  {
   "cell_type": "code",
   "execution_count": 115,
   "metadata": {},
   "outputs": [],
   "source": [
    "with open('数据8.txt','w+',encoding='utf-8') as f:\n",
    "    for city in citys_infos:\n",
    "        # 获取分类文件夹的名称作为分类标签\n",
    "        label = city[city.rfind(\n",
    "                os.path.sep) + 1:].rsplit('.txt')[0]\n",
    "        for key,val in citys_infos[city].items():\n",
    "#             print('****************')\n",
    "#             print(val)\n",
    "#             print('***********')\n",
    "            data = label+'::'+key\n",
    "            for vl in val:\n",
    "                for v in vl:\n",
    "                    if v:\n",
    "#                         print(v)\n",
    "                        data +='::'+v\n",
    "            f.write(data+'\\n')"
   ]
  },
  {
   "cell_type": "code",
   "execution_count": 116,
   "metadata": {
    "scrolled": false
   },
   "outputs": [
    {
     "data": {
      "text/html": [
       "<div>\n",
       "<style scoped>\n",
       "    .dataframe tbody tr th:only-of-type {\n",
       "        vertical-align: middle;\n",
       "    }\n",
       "\n",
       "    .dataframe tbody tr th {\n",
       "        vertical-align: top;\n",
       "    }\n",
       "\n",
       "    .dataframe thead th {\n",
       "        text-align: right;\n",
       "    }\n",
       "</style>\n",
       "<table border=\"1\" class=\"dataframe\">\n",
       "  <thead>\n",
       "    <tr style=\"text-align: right;\">\n",
       "      <th></th>\n",
       "      <th>0</th>\n",
       "      <th>1</th>\n",
       "      <th>2</th>\n",
       "      <th>3</th>\n",
       "    </tr>\n",
       "  </thead>\n",
       "  <tbody>\n",
       "    <tr>\n",
       "      <th>0</th>\n",
       "      <td>安徽省-亳州市-利辛县-2015</td>\n",
       "      <td>生产总值GDP</td>\n",
       "      <td>173.8</td>\n",
       "      <td>亿元</td>\n",
       "    </tr>\n",
       "    <tr>\n",
       "      <th>1</th>\n",
       "      <td>安徽省-亳州市-利辛县-2015</td>\n",
       "      <td>GDP总量增长</td>\n",
       "      <td>增长8.7%</td>\n",
       "      <td>None</td>\n",
       "    </tr>\n",
       "    <tr>\n",
       "      <th>2</th>\n",
       "      <td>安徽省-亳州市-利辛县-2015</td>\n",
       "      <td>第一产业增加值</td>\n",
       "      <td>44.3</td>\n",
       "      <td>亿元</td>\n",
       "    </tr>\n",
       "    <tr>\n",
       "      <th>3</th>\n",
       "      <td>安徽省-亳州市-利辛县-2015</td>\n",
       "      <td>第二产业增加值</td>\n",
       "      <td>48.0</td>\n",
       "      <td>亿元</td>\n",
       "    </tr>\n",
       "    <tr>\n",
       "      <th>4</th>\n",
       "      <td>安徽省-亳州市-利辛县-2015</td>\n",
       "      <td>第三产业增加值</td>\n",
       "      <td>81.5</td>\n",
       "      <td>亿元</td>\n",
       "    </tr>\n",
       "  </tbody>\n",
       "</table>\n",
       "</div>"
      ],
      "text/plain": [
       "                  0        1       2     3\n",
       "0  安徽省-亳州市-利辛县-2015  生产总值GDP   173.8    亿元\n",
       "1  安徽省-亳州市-利辛县-2015  GDP总量增长  增长8.7%  None\n",
       "2  安徽省-亳州市-利辛县-2015  第一产业增加值    44.3    亿元\n",
       "3  安徽省-亳州市-利辛县-2015  第二产业增加值    48.0    亿元\n",
       "4  安徽省-亳州市-利辛县-2015  第三产业增加值    81.5    亿元"
      ]
     },
     "execution_count": 116,
     "metadata": {},
     "output_type": "execute_result"
    }
   ],
   "source": [
    "datas = pd.read_csv('数据8.txt', sep='::',encoding='utf_8_sig',\n",
    "                    engine='python',header=None)\n",
    "datas.head()"
   ]
  },
  {
   "cell_type": "code",
   "execution_count": 105,
   "metadata": {},
   "outputs": [],
   "source": [
    "datas.to_csv('政府整合信息06.csv', mode='a', \n",
    "                encoding='utf_8_sig', index=False, sep=',')"
   ]
  }
 ],
 "metadata": {
  "kernelspec": {
   "display_name": "venvenv",
   "language": "python",
   "name": "venvenv"
  },
  "language_info": {
   "codemirror_mode": {
    "name": "ipython",
    "version": 3
   },
   "file_extension": ".py",
   "mimetype": "text/x-python",
   "name": "python",
   "nbconvert_exporter": "python",
   "pygments_lexer": "ipython3",
   "version": "3.6.4"
  }
 },
 "nbformat": 4,
 "nbformat_minor": 2
}
