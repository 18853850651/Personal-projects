{
 "cells": [
  {
   "cell_type": "markdown",
   "metadata": {},
   "source": [
    "## 如何跟着OpenCV飞起来？——kaggle水果数据库图片识别案例"
   ]
  },
  {
   "cell_type": "markdown",
   "metadata": {},
   "source": [
    "### 一、项目简介\n",
    "* OpenCV是一个用于图像处理、分析、机器视觉方面的开源工具包。无论科学研究，还是商业应用，OpenCV都是进行图像识别的不二之选。\n",
    "* 本文利用kaggle数据库上的水果图片数据集(fruit-images-for-object-detection)展示如何训练机器学习模型识别水果图片的类别。\n",
    "* 数据地址（kaggle数据库地址需要插件支持才能正常访问，请自行百度）：\n",
    "  https://www.kaggle.com/mbkinaci/fruit-images-for-object-detection"
   ]
  },
  {
   "cell_type": "markdown",
   "metadata": {},
   "source": [
    "### 二、图片数据分析\n",
    "* 数据库分为训练集(train)和测试集(test)两部分\n",
    "* 训练集包含四类apple,orange,banana,mixed(多种水果混合)四类237张图片；测试集包含每类图片各两张。图片集如下图所示。\n",
    "* 图片类别可由图片名称中提取。"
   ]
  },
  {
   "cell_type": "markdown",
   "metadata": {},
   "source": [
    "### 三、模型构建和实现\n",
    "* 建模思路：将rgb图片转化为gray灰度图，进而提取关键点信息，训练hmm模型进行图片预测。\n",
    "* 核心工具包：cv2,hmmlearn"
   ]
  },
  {
   "cell_type": "markdown",
   "metadata": {},
   "source": [
    "#### 1、导入工具包"
   ]
  },
  {
   "cell_type": "code",
   "execution_count": 1,
   "metadata": {},
   "outputs": [],
   "source": [
    "import os\n",
    "import warnings\n",
    "import numpy as np\n",
    "import cv2 as cv\n",
    "import hmmlearn.hmm as hl\n",
    "warnings.filterwarnings(\n",
    "    'ignore', category=DeprecationWarning)\n",
    "np.seterr(all='ignore')"
   ]
  },
  {
   "cell_type": "markdown",
   "metadata": {},
   "source": [
    "#### 2、收集文件路径\n",
    "* 将图片文件(jpg,png等...)收集在字典中备用"
   ]
  },
  {
   "cell_type": "code",
   "execution_count": 2,
   "metadata": {},
   "outputs": [],
   "source": [
    "def search_objects(directory):\n",
    "    # 将文件路径格式化，以便适应于各种操作系统\n",
    "    directory = os.path.normpath(directory)\n",
    "    # 如果输入路径不是文件件则抛出异常\n",
    "    if not os.path.isdir(directory):\n",
    "        raise IOError(directory + '不是文件夹')\n",
    "    objects = {}\n",
    "    # 遍历文件夹收集jpg文件，放入字典\n",
    "    for curdir, _, files in os.walk(directory):\n",
    "        for jpeg in [file for file in files\n",
    "                     if file.endswith('.jpg')]:\n",
    "            path = os.path.join(curdir, jpeg)\n",
    "            # 从文件名中提取图片所属类别\n",
    "            label = jpeg.split('_')[0]\n",
    "            # label = path.split(os.path.sep)[-2]\n",
    "            if label not in objects:\n",
    "                objects[label] = []\n",
    "            objects[label].append(path)\n",
    "    return objects"
   ]
  },
  {
   "cell_type": "markdown",
   "metadata": {},
   "source": [
    "#### 3、图片特征值提取\n",
    "* 定义flags主要是来区分训练集合测试集，测试集需要保存图片并呈现，训练集不需要。"
   ]
  },
  {
   "cell_type": "code",
   "execution_count": 3,
   "metadata": {},
   "outputs": [],
   "source": [
    "# 收集图片数据集的标签和灰度值\n",
    "def label_desc02(objects, flags=None):\n",
    "    data_x, data_y, data_z = [], [], []\n",
    "    # 遍历类别标签及对应的文件名\n",
    "    for label, files in objects.items():\n",
    "        descs = np.array([])\n",
    "        for file in files:\n",
    "            image = cv.imread(file)\n",
    "            # 训练阶段可不收集图片，不用给定flags值\n",
    "            if flags:\n",
    "                # 保存（测试集）中的图片\n",
    "                data_z.append([])\n",
    "                data_z[-1].append(image)\n",
    "            # 将图片转化为灰度图\n",
    "            gray = cv.cvtColor(image, cv.COLOR_BGR2GRAY)\n",
    "            h, w = gray.shape[:2]\n",
    "            f = 600 / min(h, w)\n",
    "            gray = cv.resize(gray, None, fx=f, fy=f)\n",
    "            # 提取灰度图的关键点特征值\n",
    "            star = cv.xfeatures2d.StarDetector_create()\n",
    "            keypoints = star.detect(gray)\n",
    "            sift = cv.xfeatures2d.SIFT_create()\n",
    "            _, desc = sift.compute(gray, keypoints)\n",
    "            if len(descs) == 0:\n",
    "                descs = desc\n",
    "                # print(descs)\n",
    "            else:\n",
    "                descs = np.append(descs, desc, axis=0)\n",
    "                # print(descs)\n",
    "            if flags:\n",
    "                # 测试集按图片进行特征值收集\n",
    "                data_x.append(descs)\n",
    "                data_y.append(label)\n",
    "        if not flags:\n",
    "            # 训练集按类别进行特征值收集\n",
    "            data_x.append(descs)\n",
    "            data_y.append(label)\n",
    "    return data_x, data_y, data_z"
   ]
  },
  {
   "cell_type": "markdown",
   "metadata": {},
   "source": [
    "#### 4、模型的创建和预测"
   ]
  },
  {
   "cell_type": "code",
   "execution_count": 4,
   "metadata": {},
   "outputs": [],
   "source": [
    "# 训练模型函数，hmm模型\n",
    "def model_train(data_x, data_y):\n",
    "    models = {}\n",
    "    for descs, label in zip(data_x, data_y):\n",
    "        model = hl.GaussianHMM(\n",
    "            n_components=4, covariance_type='diag',\n",
    "            n_iter=1000) # 提取4个主要特征，训练上限为1000轮\n",
    "        models[label] = model.fit(descs)\n",
    "    return models\n",
    "\n",
    "# 定义利用图像识别进行模型预测的函数\n",
    "def model_pred(test_x, models):\n",
    "    pred_test_y = []\n",
    "    for descs in test_x:\n",
    "        # for desc in descs:\n",
    "        # 定义最优得分和预测标签\n",
    "        best_score, best_label = None, None\n",
    "        for label, model in models.items():\n",
    "            score = model.score(descs)\n",
    "            # 选择则有得分的预测标签保存，作为预测值\n",
    "            if not best_score or (\n",
    "                    best_score < score):\n",
    "                best_score, best_label = score, label\n",
    "        pred_test_y.append(best_label)\n",
    "    return pred_test_y"
   ]
  },
  {
   "cell_type": "markdown",
   "metadata": {},
   "source": [
    "#### 4、图片可视化\n",
    "* 将测试集和预测结果进行可视化，观察预测效果"
   ]
  },
  {
   "cell_type": "code",
   "execution_count": 5,
   "metadata": {},
   "outputs": [],
   "source": [
    "# 可视化识别的图片\n",
    "def show_pics(test_y, pred_test_y, test_z):\n",
    "    i = 0\n",
    "    for label, pred_label, images in zip(\n",
    "            test_y, pred_test_y, test_z):\n",
    "        for image in images:\n",
    "            i += 1\n",
    "            cv.imshow('{} - {} {} {}'.format(\n",
    "                i, label,\n",
    "                '==' if label == pred_label\n",
    "                else '!=', pred_label), image)"
   ]
  },
  {
   "cell_type": "markdown",
   "metadata": {},
   "source": [
    "#### 5、模型执行"
   ]
  },
  {
   "cell_type": "code",
   "execution_count": 6,
   "metadata": {},
   "outputs": [],
   "source": [
    "# 给定训练集、测试集路径地址\n",
    "train_path = 'train'\n",
    "test_path = 'test'\n",
    "# 收集训练集、测试集的jpg文件\n",
    "train_files = search_objects(train_path)\n",
    "test_files = search_objects(test_path)\n",
    "# 提取训练集、测试集图片文件关键点特征值\n",
    "# 通过flags赋值区分测试集和训练集\n",
    "train_x, train_y, _ = label_desc02(train_files)\n",
    "test_x, test_y, test_z = label_desc02(test_files, flags=1)"
   ]
  },
  {
   "cell_type": "code",
   "execution_count": 8,
   "metadata": {},
   "outputs": [],
   "source": [
    "# 模型的创建和训练\n",
    "models = model_train(train_x, train_y)\n",
    "# 利用模型进行测试集预测\n",
    "pred_test_y = model_pred(test_x, models)"
   ]
  },
  {
   "cell_type": "code",
   "execution_count": 9,
   "metadata": {},
   "outputs": [],
   "source": [
    "# 观察测试集真实类别和预测类别列表\n",
    "print(test_y)\n",
    "print(pred_test_y)"
   ]
  },
  {
   "cell_type": "code",
   "execution_count": 10,
   "metadata": {},
   "outputs": [],
   "source": [
    "# 将预测结果与真实结果进行图片可视化\n",
    "show_pics(test_y, pred_test_y, test_z)\n",
    "# 设置键盘阻塞，保留图片\n",
    "cv.waitKey()"
   ]
  },
  {
   "cell_type": "markdown",
   "metadata": {},
   "source": [
    "### 四、模型评估\n",
    "* 由预测结果可知，8张图片类型均预测正确。即使进行多次实验，模型仍具有较好的预测精度。\n",
    "* 该模型可以作为四类水果的简单预测模型。\n",
    "* 更加复杂准确的预测模型与上述模型具有相同的原理，可根据实际应用需求进行更新。"
   ]
  },
  {
   "cell_type": "code",
   "execution_count": null,
   "metadata": {},
   "outputs": [],
   "source": []
  }
 ],
 "metadata": {
  "kernelspec": {
   "display_name": "venvenv",
   "language": "python",
   "name": "venvenv"
  },
  "language_info": {
   "codemirror_mode": {
    "name": "ipython",
    "version": 3
   },
   "file_extension": ".py",
   "mimetype": "text/x-python",
   "name": "python",
   "nbconvert_exporter": "python",
   "pygments_lexer": "ipython3",
   "version": "3.6.4"
  }
 },
 "nbformat": 4,
 "nbformat_minor": 2
}
