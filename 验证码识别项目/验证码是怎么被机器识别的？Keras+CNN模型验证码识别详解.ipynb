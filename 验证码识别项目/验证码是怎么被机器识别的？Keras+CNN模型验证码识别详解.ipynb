{
 "cells": [
  {
   "cell_type": "markdown",
   "metadata": {},
   "source": [
    "### 一、项目简介\n",
    "* 本项目将利用Keras建立CNN模型对验证码数字进行识别，展示数字验证码识别的基本流程。\n",
    "* 此项目不采用OpenCV工具包的数字识别功能，而是将rgb数字图像转化为gray灰度图，计算图片的像素值进行模型训练和识别。\n",
    "* 验证码的训练集和测试集事先已生成，可直接调用。"
   ]
  },
  {
   "cell_type": "markdown",
   "metadata": {},
   "source": [
    "### 二、数据预处理"
   ]
  },
  {
   "cell_type": "markdown",
   "metadata": {},
   "source": [
    "#### 1、引入第三方工具包"
   ]
  },
  {
   "cell_type": "code",
   "execution_count": 1,
   "metadata": {},
   "outputs": [
    {
     "name": "stderr",
     "output_type": "stream",
     "text": [
      "Using TensorFlow backend.\n"
     ]
    }
   ],
   "source": [
    "from PIL import Image \n",
    "from keras import backend as K\n",
    "from keras.models import * \n",
    "from keras.layers import * \n",
    "import tensorflow as tf\n",
    "import glob,pickle\n",
    "import numpy as np \n",
    "import tensorflow.gfile as gfile \n",
    "import matplotlib.pyplot as mp"
   ]
  },
  {
   "cell_type": "markdown",
   "metadata": {},
   "source": [
    "#### 2、定义超参数和字符集"
   ]
  },
  {
   "cell_type": "code",
   "execution_count": 49,
   "metadata": {},
   "outputs": [],
   "source": [
    "NUMBER = ['0', '1', '2', '3', '4', '5', '6', '7', '8', '9']\n",
    "\n",
    "CAPTCHA_CHARSET = NUMBER   # 使用数字字符集生成验证码\n",
    "CAPTCHA_LEN = 4            # 验证码长度\n",
    "CAPTCHA_HEIGHT = 60        # 验证码高度\n",
    "CAPTCHA_WIDTH = 160       # 验证码长度\n",
    "\n",
    "TRAIN_DATA_DIR = './train_data/' # 验证码训练数据集路径\n",
    "TEST_DATA_DIR = './test_data/'\n",
    "\n",
    "BATCH_SIZE = 100    # 每个批次训练样本的数量\n",
    "EPOCHS = 10        # 模型训练的轮数\n",
    "OPT = 'adam'        # 采用adam算法进行模型优化\n",
    "LOSS = 'binary_crossentropy' # 采用二分交叉熵损失函数，向量的分量相互独立\n",
    "\n",
    "# 模型文件存储路径和文件格式\n",
    "MODEL_DIR = './model/train_demo/'\n",
    "MODEL_FORMAT = '.h5'\n",
    "# 训练记录文件存储路径和文件格式\n",
    "HISTORY_DIR = './history/train_demo/'\n",
    "HISTORY_FORMAT = '.history'\n",
    "\n",
    "# 训练日志内容格式\n",
    "filename_str = \"{} captcha_{}_{}_bs_{}_epochs_{}{}\"\n",
    "\n",
    "# # 模型网络结构文件\n",
    "# MODEL_VIS_FILE = 'captcha_classification.png'\n",
    "# 模型文件\n",
    "MODEL_FILE = filename_str.format(MODEL_DIR, OPT, LOSS, str(BATCH_SIZE),\n",
    "                                str(EPOCHS),MODEL_FORMAT)\n",
    "# 训练记录文件\n",
    "HISTORY_FILE = filename_str.format(HISTORY_DIR, OPT, LOSS, str(BATCH_SIZE),\n",
    "                                str(EPOCHS),HISTORY_FORMAT)"
   ]
  },
  {
   "cell_type": "markdown",
   "metadata": {},
   "source": [
    "#### 3、将RGB图像转化为灰度图"
   ]
  },
  {
   "cell_type": "code",
   "execution_count": 3,
   "metadata": {},
   "outputs": [],
   "source": [
    "def rgb2gray(image):\n",
    "    return np.dot(image[...,:3], [0.299,0.587,0.114])"
   ]
  },
  {
   "cell_type": "markdown",
   "metadata": {},
   "source": [
    "#### 4、对验证码进行one-hot编码"
   ]
  },
  {
   "cell_type": "code",
   "execution_count": 4,
   "metadata": {},
   "outputs": [],
   "source": [
    "def text2vec(text, length=CAPTCHA_LEN, charset=CAPTCHA_CHARSET):\n",
    "    text_len = len(text)\n",
    "    # 验证码长度校验\n",
    "    if text_len != length:\n",
    "        raise ValueError(\n",
    "            \"输入字符长度为{}，与所需验证码长度{}不相符\".format(text_len,length))\n",
    "    vec = np.zeros(length*len(charset))\n",
    "    for i in range(length):\n",
    "        vec[charset.index(text[i])+i*len(charset)] = 1\n",
    "    return vec"
   ]
  },
  {
   "cell_type": "markdown",
   "metadata": {},
   "source": [
    "#### 5、将验证码向量解码为对应字符"
   ]
  },
  {
   "cell_type": "code",
   "execution_count": 5,
   "metadata": {},
   "outputs": [],
   "source": [
    "def vec2text(vector):\n",
    "    if not isinstance(vector, np.ndarray):\n",
    "        vector = np.asarray(vector)\n",
    "    vector = np.reshape(vector, [CAPTCHA_LEN, -1])\n",
    "    text = ''\n",
    "    for item in vector:\n",
    "        text += CAPTCHA_CHARSET[np.argmax(item)]\n",
    "    return text"
   ]
  },
  {
   "cell_type": "markdown",
   "metadata": {},
   "source": [
    "#### 6、适配Keras图像数据格式通道"
   ]
  },
  {
   "cell_type": "code",
   "execution_count": 6,
   "metadata": {},
   "outputs": [],
   "source": [
    "def fit_keras_channels(batch, rows=CAPTCHA_HEIGHT, cols=CAPTCHA_WIDTH):\n",
    "    if K.image_data_format() == 'channel first':\n",
    "        batch = batch.reshape(batch.shape[0],1,rows,cols)\n",
    "        input_shape = (1,rows,cols)\n",
    "    else:\n",
    "        batch = batch.reshape(batch.shape[0],rows,cols,1)\n",
    "        input_shape = (rows,cols,1)\n",
    "    return batch,input_shape"
   ]
  },
  {
   "cell_type": "markdown",
   "metadata": {},
   "source": [
    "#### 7、读取训练集数据"
   ]
  },
  {
   "cell_type": "code",
   "execution_count": 37,
   "metadata": {},
   "outputs": [],
   "source": [
    "X_train, Y_train = [],[]\n",
    "for filename in glob.glob(TRAIN_DATA_DIR + '*.png'):\n",
    "    X_train.append(np.array(Image.open(filename)))\n",
    "    Y_train.append(filename.lstrip(TRAIN_DATA_DIR+'\\\\').rstrip('.png'))"
   ]
  },
  {
   "cell_type": "code",
   "execution_count": 39,
   "metadata": {},
   "outputs": [
    {
     "data": {
      "text/plain": [
       "'0029'"
      ]
     },
     "execution_count": 39,
     "metadata": {},
     "output_type": "execute_result"
    }
   ],
   "source": [
    "Y_train[9]"
   ]
  },
  {
   "cell_type": "markdown",
   "metadata": {},
   "source": [
    "#### 8、处理训练集图像"
   ]
  },
  {
   "cell_type": "code",
   "execution_count": 40,
   "metadata": {},
   "outputs": [
    {
     "name": "stdout",
     "output_type": "stream",
     "text": [
      "(3936, 60, 160, 1) <class 'numpy.ndarray'>\n",
      "(60, 160, 1)\n"
     ]
    }
   ],
   "source": [
    "# 将X_train格式转为rgb的np.float32型的numpy数组格式\n",
    "X_train = np.array(X_train, dtype=np.float32)\n",
    "# 将数据由rgb图转为gray灰度图\n",
    "X_train = rgb2gray(X_train)\n",
    "# 数据归一化\n",
    "X_train = X_train / 255\n",
    "# 适配Keras数据通道\n",
    "X_train, input_shape = fit_keras_channels(X_train)\n",
    "\n",
    "print(X_train.shape, type(X_train))\n",
    "print(input_shape)"
   ]
  },
  {
   "cell_type": "code",
   "execution_count": 42,
   "metadata": {},
   "outputs": [
    {
     "data": {
      "text/plain": [
       "'0028'"
      ]
     },
     "execution_count": 42,
     "metadata": {},
     "output_type": "execute_result"
    }
   ],
   "source": [
    "Y_train[8]"
   ]
  },
  {
   "cell_type": "markdown",
   "metadata": {},
   "source": [
    "#### 9、处理训练集标签"
   ]
  },
  {
   "cell_type": "code",
   "execution_count": 43,
   "metadata": {
    "scrolled": false
   },
   "outputs": [
    {
     "name": "stdout",
     "output_type": "stream",
     "text": [
      "(3936, 40) <class 'numpy.ndarray'>\n"
     ]
    }
   ],
   "source": [
    "Y_train = list(Y_train)\n",
    "for i in range(len(Y_train)):\n",
    "#     print(Y_train[i])\n",
    "    Y_train[i] = text2vec(Y_train[i])\n",
    "Y_train = np.asarray(Y_train)\n",
    "\n",
    "print(Y_train.shape, type(Y_train))"
   ]
  },
  {
   "cell_type": "markdown",
   "metadata": {},
   "source": [
    "#### 10、读取测试集数据，处理图像和标签"
   ]
  },
  {
   "cell_type": "code",
   "execution_count": 44,
   "metadata": {},
   "outputs": [
    {
     "name": "stdout",
     "output_type": "stream",
     "text": [
      "(938, 60, 160, 1)\n",
      "(938, 40)\n"
     ]
    }
   ],
   "source": [
    "X_test,Y_test = [],[]\n",
    "# 读取测试集数据\n",
    "for filename in glob.glob(TEST_DATA_DIR + '*.png'):\n",
    "    X_test.append(np.array(Image.open(filename)))\n",
    "    Y_test.append(filename.lstrip(TEST_DATA_DIR+'\\\\').rstrip('.png'))\n",
    "# 处理图像\n",
    "X_test = np.array(X_test, dtype=np.float32)\n",
    "X_test = rgb2gray(X_test) / 255\n",
    "X_test,_ = fit_keras_channels(X_test)\n",
    "# 处理标签\n",
    "Y_test = list(Y_test)\n",
    "for i in range(len(Y_test)):\n",
    "    Y_test[i] = text2vec(Y_test[i])\n",
    "Y_test = np.asarray(Y_test)\n",
    "\n",
    "print(X_test.shape)\n",
    "print(Y_test.shape)"
   ]
  },
  {
   "cell_type": "markdown",
   "metadata": {},
   "source": [
    "### 三、CNN验证码识别模型"
   ]
  },
  {
   "cell_type": "markdown",
   "metadata": {},
   "source": [
    "#### 1、创建CNN模型"
   ]
  },
  {
   "cell_type": "code",
   "execution_count": 45,
   "metadata": {},
   "outputs": [],
   "source": [
    "# 创建输入层\n",
    "with tf.name_scope('inputs'):\n",
    "    inputs = Input(shape=input_shape, name='inputs')\n",
    "#     inputs = Input(shape=input_shape, name='inputs')\n",
    "\n",
    "# 第一层卷积\n",
    "with tf.name_scope('conv1'):\n",
    "    conv1 = Conv2D(32, (3,3), name='conv1')(inputs)\n",
    "    relu1 = Activation('relu', name='relu1')(conv1)\n",
    "\n",
    "# 第二层卷积\n",
    "with tf.name_scope('conv2'):\n",
    "    conv2 = Conv2D(32, (3,3), name='conv2')(relu1)\n",
    "    relu2 = Activation('relu', name='relu2')(conv2)\n",
    "    pool2 = MaxPooling2D(pool_size=(2,2), padding='same', name='pool2')(relu2)\n",
    "\n",
    "# 第三层卷积\n",
    "with tf.name_scope('conv3'):\n",
    "    conv3 = Conv2D(64, (3,3), name='conv3')(pool2)\n",
    "    relu3 = Activation('relu', name='relu3')(conv3)\n",
    "    pool3 = MaxPooling2D(pool_size=(2,2), padding='same', name='pool3')(relu3)\n",
    "\n",
    "# 全连接层\n",
    "with tf.name_scope('dense'):\n",
    "    # 将池化后的数据摊平后输入全连接网络\n",
    "    x = Flatten()(pool3)\n",
    "    # Dropout\n",
    "    x = Dropout(0.25)(x)\n",
    "    # 创建4个全连接层,区分10类，分别识别4个字符\n",
    "    x = [Dense(10, activation='softmax', name='func%d'%(i+1))(x) for i in range(4)]\n",
    "\n",
    "# 输出层\n",
    "with tf.name_scope('outputs'):\n",
    "    # 将生成的4个字符拼接输出\n",
    "    outs = Concatenate()(x)"
   ]
  },
  {
   "cell_type": "code",
   "execution_count": 46,
   "metadata": {},
   "outputs": [],
   "source": [
    "# 定义模型的输入和输出    \n",
    "model = Model(inputs=inputs, outputs=outs)\n",
    "model.compile(optimizer=OPT, loss=LOSS, metrics=['accuracy'])"
   ]
  },
  {
   "cell_type": "markdown",
   "metadata": {},
   "source": [
    "#### 2、模型摘要信息"
   ]
  },
  {
   "cell_type": "code",
   "execution_count": 47,
   "metadata": {},
   "outputs": [
    {
     "name": "stdout",
     "output_type": "stream",
     "text": [
      "__________________________________________________________________________________________________\n",
      "Layer (type)                    Output Shape         Param #     Connected to                     \n",
      "==================================================================================================\n",
      "inputs (InputLayer)             (None, 60, 160, 1)   0                                            \n",
      "__________________________________________________________________________________________________\n",
      "conv1 (Conv2D)                  (None, 58, 158, 32)  320         inputs[0][0]                     \n",
      "__________________________________________________________________________________________________\n",
      "relu1 (Activation)              (None, 58, 158, 32)  0           conv1[0][0]                      \n",
      "__________________________________________________________________________________________________\n",
      "conv2 (Conv2D)                  (None, 56, 156, 32)  9248        relu1[0][0]                      \n",
      "__________________________________________________________________________________________________\n",
      "relu2 (Activation)              (None, 56, 156, 32)  0           conv2[0][0]                      \n",
      "__________________________________________________________________________________________________\n",
      "pool2 (MaxPooling2D)            (None, 28, 78, 32)   0           relu2[0][0]                      \n",
      "__________________________________________________________________________________________________\n",
      "conv3 (Conv2D)                  (None, 26, 76, 64)   18496       pool2[0][0]                      \n",
      "__________________________________________________________________________________________________\n",
      "relu3 (Activation)              (None, 26, 76, 64)   0           conv3[0][0]                      \n",
      "__________________________________________________________________________________________________\n",
      "pool3 (MaxPooling2D)            (None, 13, 38, 64)   0           relu3[0][0]                      \n",
      "__________________________________________________________________________________________________\n",
      "flatten_2 (Flatten)             (None, 31616)        0           pool3[0][0]                      \n",
      "__________________________________________________________________________________________________\n",
      "dropout_2 (Dropout)             (None, 31616)        0           flatten_2[0][0]                  \n",
      "__________________________________________________________________________________________________\n",
      "func1 (Dense)                   (None, 10)           316170      dropout_2[0][0]                  \n",
      "__________________________________________________________________________________________________\n",
      "func2 (Dense)                   (None, 10)           316170      dropout_2[0][0]                  \n",
      "__________________________________________________________________________________________________\n",
      "func3 (Dense)                   (None, 10)           316170      dropout_2[0][0]                  \n",
      "__________________________________________________________________________________________________\n",
      "func4 (Dense)                   (None, 10)           316170      dropout_2[0][0]                  \n",
      "__________________________________________________________________________________________________\n",
      "concatenate_2 (Concatenate)     (None, 40)           0           func1[0][0]                      \n",
      "                                                                 func2[0][0]                      \n",
      "                                                                 func3[0][0]                      \n",
      "                                                                 func4[0][0]                      \n",
      "==================================================================================================\n",
      "Total params: 1,292,744\n",
      "Trainable params: 1,292,744\n",
      "Non-trainable params: 0\n",
      "__________________________________________________________________________________________________\n"
     ]
    }
   ],
   "source": [
    "model.summary()"
   ]
  },
  {
   "cell_type": "markdown",
   "metadata": {},
   "source": [
    "#### 3、训练模型"
   ]
  },
  {
   "cell_type": "code",
   "execution_count": 50,
   "metadata": {},
   "outputs": [
    {
     "name": "stdout",
     "output_type": "stream",
     "text": [
      "100\n",
      "10\n"
     ]
    }
   ],
   "source": [
    "print(BATCH_SIZE)\n",
    "print(EPOCHS)"
   ]
  },
  {
   "cell_type": "code",
   "execution_count": 51,
   "metadata": {
    "scrolled": false
   },
   "outputs": [
    {
     "name": "stdout",
     "output_type": "stream",
     "text": [
      "Train on 3936 samples, validate on 938 samples\n",
      "Epoch 1/10\n",
      " - 145s - loss: 0.3268 - acc: 0.9000 - val_loss: 0.3245 - val_acc: 0.9000\n",
      "Epoch 2/10\n",
      " - 140s - loss: 0.3200 - acc: 0.9000 - val_loss: 0.3127 - val_acc: 0.9000\n",
      "Epoch 3/10\n",
      " - 142s - loss: 0.2789 - acc: 0.9029 - val_loss: 0.2654 - val_acc: 0.9064\n",
      "Epoch 4/10\n",
      " - 142s - loss: 0.2176 - acc: 0.9199 - val_loss: 0.2371 - val_acc: 0.9155\n",
      "Epoch 5/10\n",
      " - 149s - loss: 0.1748 - acc: 0.9366 - val_loss: 0.2178 - val_acc: 0.9211\n",
      "Epoch 6/10\n",
      " - 153s - loss: 0.1429 - acc: 0.9484 - val_loss: 0.2142 - val_acc: 0.9229\n",
      "Epoch 7/10\n",
      " - 153s - loss: 0.1178 - acc: 0.9580 - val_loss: 0.2084 - val_acc: 0.9256\n",
      "Epoch 8/10\n",
      " - 148s - loss: 0.0960 - acc: 0.9665 - val_loss: 0.2163 - val_acc: 0.9242\n",
      "Epoch 9/10\n",
      " - 152s - loss: 0.0778 - acc: 0.9731 - val_loss: 0.2210 - val_acc: 0.9253\n",
      "Epoch 10/10\n",
      " - 142s - loss: 0.0616 - acc: 0.9792 - val_loss: 0.2336 - val_acc: 0.9245\n"
     ]
    }
   ],
   "source": [
    "history = model.fit(X_train,Y_train,\n",
    "                   batch_size=BATCH_SIZE,\n",
    "                   epochs=EPOCHS,verbose=2,\n",
    "                   validation_data=(X_test,Y_test))"
   ]
  },
  {
   "cell_type": "markdown",
   "metadata": {},
   "source": [
    "* 经过10轮训练，模型在训练集上的loss值为0.0616，准确率为0.9792；\n",
    "* 测试集的预测损失值为0.2336，预测准确度为0.9245"
   ]
  },
  {
   "cell_type": "markdown",
   "metadata": {},
   "source": [
    "#### 4、预测样例\n",
    "* 此项目自动生成的验证码利用了反图灵测试，目的就是降低识别的准确率。\n",
    "* 同时受限于训练集的大小和训练的批次，实际预测中，4个字符都能识别正确的概率还是很低。"
   ]
  },
  {
   "cell_type": "code",
   "execution_count": 63,
   "metadata": {},
   "outputs": [
    {
     "name": "stdout",
     "output_type": "stream",
     "text": [
      "0260\n"
     ]
    }
   ],
   "source": [
    "print(vec2text(Y_test[22]))"
   ]
  },
  {
   "cell_type": "code",
   "execution_count": 62,
   "metadata": {},
   "outputs": [
    {
     "name": "stdout",
     "output_type": "stream",
     "text": [
      "1260\n"
     ]
    }
   ],
   "source": [
    "yy = model.predict(X_test[22].reshape(1, 60, 160, 1))\n",
    "print(vec2text(yy))"
   ]
  },
  {
   "cell_type": "markdown",
   "metadata": {},
   "source": [
    "#### 5、保存模型"
   ]
  },
  {
   "cell_type": "code",
   "execution_count": 65,
   "metadata": {},
   "outputs": [
    {
     "name": "stdout",
     "output_type": "stream",
     "text": [
      "./model/train_demo/ captcha_adam_binary_crossentropy_bs_100_epochs_10.h5\n"
     ]
    }
   ],
   "source": [
    "if not gfile.Exists(MODEL_DIR):\n",
    "    gfile.MakeDirs(MODEL_DIR)\n",
    "\n",
    "model.save(MODEL_FILE)\n",
    "print(MODEL_FILE)"
   ]
  },
  {
   "cell_type": "markdown",
   "metadata": {},
   "source": [
    "#### 6、保存模型历史记录"
   ]
  },
  {
   "cell_type": "code",
   "execution_count": 66,
   "metadata": {},
   "outputs": [
    {
     "name": "stdout",
     "output_type": "stream",
     "text": [
      "./history/train_demo/ captcha_adam_binary_crossentropy_bs_100_epochs_10.history\n"
     ]
    }
   ],
   "source": [
    "if not gfile.Exists(HISTORY_DIR):\n",
    "    gfile.MakeDirs(HISTORY_DIR)\n",
    "\n",
    "with open(HISTORY_FILE, 'wb') as f:\n",
    "    pickle.dump(history.history, f)\n",
    "print(HISTORY_FILE)"
   ]
  },
  {
   "cell_type": "markdown",
   "metadata": {},
   "source": [
    "### 四、模型的分析评估\n",
    "* 对模型进行一次100轮的训练，将训练数据记录保存到history_file，进行可视化分析。\n",
    "* 训练方式与10轮相同，此处不再打印过程日志。"
   ]
  },
  {
   "cell_type": "markdown",
   "metadata": {},
   "source": [
    "#### 1、加载训练过程记录"
   ]
  },
  {
   "cell_type": "code",
   "execution_count": 67,
   "metadata": {},
   "outputs": [],
   "source": [
    "history_file = './pre-trained/history/optimizer/binary_ce/captcha_adam_binary_crossentropy_bs_100_epochs_100.history'\n",
    "# 加载模型记录数据\n",
    "with open(history_file, 'rb') as f:\n",
    "    history = pickle.load(f)"
   ]
  },
  {
   "cell_type": "markdown",
   "metadata": {},
   "source": [
    "#### 2、可视化训练过程数据"
   ]
  },
  {
   "cell_type": "code",
   "execution_count": 70,
   "metadata": {},
   "outputs": [
    {
     "data": {
      "image/png": "[encoded data removed]",
      "text/plain": [
       "<matplotlib.figure.Figure at 0x21083d03b70>"
      ]
     },
     "metadata": {},
     "output_type": "display_data"
    }
   ],
   "source": [
    "mp.figure()\n",
    "# 绘制模型的准确率Accuracy曲线\n",
    "mp.subplot(2,1,1)\n",
    "mp.xlabel('epoch')\n",
    "mp.ylabel('accuracy')\n",
    "mp.title('Model accuracy')\n",
    "mp.plot(history['acc'])\n",
    "mp.plot(history['val_acc'])\n",
    "mp.legend(['train','test'], loc='lower right')\n",
    "\n",
    "# 绘制模型的损失值Loss曲线\n",
    "mp.subplot(2,1,2)\n",
    "mp.xlabel('epoch')\n",
    "mp.ylabel('loss')\n",
    "mp.title('Model Loss')\n",
    "mp.plot(history['loss'])\n",
    "mp.plot(history['val_loss'])\n",
    "mp.legend(['train','test'], loc='lower right')\n",
    "mp.tight_layout()\n",
    "\n",
    "mp.show()"
   ]
  },
  {
   "cell_type": "markdown",
   "metadata": {},
   "source": [
    "#### 小结\n",
    "* 训练集的准确率accuracy和损失值loss表现都非常好；而测试集上的accuracy和loss表现非常糟糕，说明模型在10轮训练集后出现了过拟合现象。实际应用选择10轮训练的模型即可。"
   ]
  },
  {
   "cell_type": "code",
   "execution_count": null,
   "metadata": {},
   "outputs": [],
   "source": []
  },
  {
   "cell_type": "code",
   "execution_count": null,
   "metadata": {},
   "outputs": [],
   "source": []
  }
 ],
 "metadata": {
  "kernelspec": {
   "display_name": "venvenv",
   "language": "python",
   "name": "venvenv"
  },
  "language_info": {
   "codemirror_mode": {
    "name": "ipython",
    "version": 3
   },
   "file_extension": ".py",
   "mimetype": "text/x-python",
   "name": "python",
   "nbconvert_exporter": "python",
   "pygments_lexer": "ipython3",
   "version": "3.6.4"
  }
 },
 "nbformat": 4,
 "nbformat_minor": 2
}
